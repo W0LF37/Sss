{
 "cells": [
  {
   "cell_type": "code",
   "execution_count": 19,
   "metadata": {
    "id": "rPQ0DjxV2VZU"
   },
   "outputs": [],
   "source": [
    "!pip install -q efficientnet kagglehub\n",
    "\n",
    "import numpy as np\n",
    "import pandas as pd\n",
    "import matplotlib.pyplot as plt\n",
    "import librosa\n",
    "import cv2\n",
    "import os\n",
    "import kagglehub\n",
    "from sklearn.model_selection import train_test_split\n",
    "from sklearn.utils.class_weight import compute_class_weight\n",
    "from sklearn.metrics import classification_report, confusion_matrix\n",
    "import tensorflow as tf\n",
    "from tensorflow.keras import layers, models\n",
    "import efficientnet.tfkeras as efn\n"
   ]
  },
  {
   "cell_type": "code",
   "execution_count": 20,
   "metadata": {
    "id": "uaV0DJ3tAQ1B"
   },
   "outputs": [],
   "source": [
    "path = kagglehub.dataset_download(\"harunshimanto/epileptic-seizure-recognition\")\n",
    "csv_path = os.path.join(path, \"Epileptic Seizure Recognition.csv\")\n",
    "df = pd.read_csv(csv_path)\n",
    "df.drop(columns=[df.columns[0]], inplace=True)\n",
    "df = df.drop(columns=['Unnamed'], errors='ignore')\n",
    "df = df[df.iloc[:, 1:179].sum(axis=1) != 0]\n",
    "\n",
    "X = df.iloc[:, 1:179].values\n",
    "y = df.iloc[:, -1].values - 1  "
   ]
  },
  {
   "cell_type": "code",
   "execution_count": 21,
   "metadata": {
    "id": "YcBiT98k7YxH"
   },
   "outputs": [],
   "source": [
    "def signal_to_stft_image(signal, sr=178):\n",
    "    signal = np.asarray(signal, dtype=np.float32)\n",
    "    stft = librosa.stft(signal, n_fft=64)\n",
    "    stft_db = librosa.amplitude_to_db(np.abs(stft))\n",
    "    stft_db_resized = cv2.resize(stft_db, (128, 128))\n",
    "    return stft_db_resized\n",
    "\n",
    "X_images = np.array([signal_to_stft_image(x) for x in X])\n",
    "X_images = np.expand_dims(X_images, axis=-1)\n",
    "X_images = np.repeat(X_images, 3, axis=-1)  \n",
    "X_images = X_images / 255.0  \n",
    "\n",
    "\n",
    "X_train, X_test, y_train, y_test = train_test_split(\n",
    "    X_images, y, test_size=0.3, stratify=y, random_state=42\n",
    ")\n",
    "\n",
    "\n",
    "class_weights = dict(enumerate(compute_class_weight(class_weight='balanced', classes=np.unique(y_train), y=y_train)))\n"
   ]
  },
  {
   "cell_type": "code",
   "execution_count": 22,
   "metadata": {
    "id": "esJhOzmRekI3"
   },
   "outputs": [],
   "source": [
    "base_model = efn.EfficientNetB0(include_top=False, input_shape=(128, 128, 3), weights=None)\n",
    "model = models.Sequential([\n",
    "    base_model,\n",
    "    layers.GlobalAveragePooling2D(),\n",
    "    layers.Dense(128, activation='relu'),\n",
    "    layers.Dropout(0.3),\n",
    "    layers.Dense(5, activation='softmax')\n",
    "])\n",
    "\n",
    "model.compile(\n",
    "    optimizer=tf.keras.optimizers.Adam(learning_rate=1e-3),\n",
    "    loss='sparse_categorical_crossentropy',\n",
    "    metrics=['accuracy']\n",
    ")\n",
    "\n",
    "\n",
    "callbacks = [\n",
    "    tf.keras.callbacks.EarlyStopping(patience=10, restore_best_weights=True),\n",
    "    tf.keras.callbacks.ReduceLROnPlateau(patience=5, factor=0.5, min_lr=1e-6, verbose=1)\n",
    "]\n"
   ]
  },
  {
   "cell_type": "code",
   "execution_count": 23,
   "metadata": {
    "colab": {
     "base_uri": "https://localhost:8080/"
    },
    "id": "qPQwa5WEA_Nx",
    "outputId": "eabcdb4f-4da0-4bdb-81f8-f91e56128364"
   },
   "outputs": [
    {
     "name": "stdout",
     "output_type": "stream",
     "text": [
      "Epoch 1/50\n",
      "\u001b[1m227/227\u001b[0m \u001b[32m━━━━━━━━━━━━━━━━━━━━\u001b[0m\u001b[37m\u001b[0m \u001b[1m682s\u001b[0m 3s/step - accuracy: 0.5406 - loss: 1.0460 - val_accuracy: 0.1789 - val_loss: 2.2309 - learning_rate: 0.0010\n",
      "Epoch 2/50\n",
      "\u001b[1m227/227\u001b[0m \u001b[32m━━━━━━━━━━━━━━━━━━━━\u001b[0m\u001b[37m\u001b[0m \u001b[1m665s\u001b[0m 3s/step - accuracy: 0.7102 - loss: 0.6130 - val_accuracy: 0.2857 - val_loss: 3.6941 - learning_rate: 0.0010\n",
      "Epoch 3/50\n",
      "\u001b[1m227/227\u001b[0m \u001b[32m━━━━━━━━━━━━━━━━━━━━\u001b[0m\u001b[37m\u001b[0m \u001b[1m613s\u001b[0m 3s/step - accuracy: 0.7475 - loss: 0.5268 - val_accuracy: 0.6435 - val_loss: 0.8855 - learning_rate: 0.0010\n",
      "Epoch 4/50\n",
      "\u001b[1m227/227\u001b[0m \u001b[32m━━━━━━━━━━━━━━━━━━━━\u001b[0m\u001b[37m\u001b[0m \u001b[1m615s\u001b[0m 3s/step - accuracy: 0.7725 - loss: 0.4881 - val_accuracy: 0.6286 - val_loss: 1.1866 - learning_rate: 0.0010\n",
      "Epoch 5/50\n",
      "\u001b[1m227/227\u001b[0m \u001b[32m━━━━━━━━━━━━━━━━━━━━\u001b[0m\u001b[37m\u001b[0m \u001b[1m620s\u001b[0m 3s/step - accuracy: 0.7950 - loss: 0.4370 - val_accuracy: 0.7466 - val_loss: 0.5438 - learning_rate: 0.0010\n",
      "Epoch 6/50\n",
      "\u001b[1m227/227\u001b[0m \u001b[32m━━━━━━━━━━━━━━━━━━━━\u001b[0m\u001b[37m\u001b[0m \u001b[1m635s\u001b[0m 3s/step - accuracy: 0.8033 - loss: 0.4267 - val_accuracy: 0.7602 - val_loss: 0.5345 - learning_rate: 0.0010\n",
      "Epoch 7/50\n",
      "\u001b[1m227/227\u001b[0m \u001b[32m━━━━━━━━━━━━━━━━━━━━\u001b[0m\u001b[37m\u001b[0m \u001b[1m617s\u001b[0m 3s/step - accuracy: 0.8267 - loss: 0.3872 - val_accuracy: 0.7491 - val_loss: 0.5365 - learning_rate: 0.0010\n",
      "Epoch 8/50\n",
      "\u001b[1m227/227\u001b[0m \u001b[32m━━━━━━━━━━━━━━━━━━━━\u001b[0m\u001b[37m\u001b[0m \u001b[1m627s\u001b[0m 3s/step - accuracy: 0.8497 - loss: 0.3370 - val_accuracy: 0.7478 - val_loss: 0.6126 - learning_rate: 0.0010\n",
      "Epoch 9/50\n",
      "\u001b[1m227/227\u001b[0m \u001b[32m━━━━━━━━━━━━━━━━━━━━\u001b[0m\u001b[37m\u001b[0m \u001b[1m617s\u001b[0m 3s/step - accuracy: 0.8578 - loss: 0.3155 - val_accuracy: 0.7056 - val_loss: 0.7548 - learning_rate: 0.0010\n",
      "Epoch 10/50\n",
      "\u001b[1m227/227\u001b[0m \u001b[32m━━━━━━━━━━━━━━━━━━━━\u001b[0m\u001b[37m\u001b[0m \u001b[1m628s\u001b[0m 3s/step - accuracy: 0.8807 - loss: 0.3018 - val_accuracy: 0.8037 - val_loss: 0.4597 - learning_rate: 0.0010\n",
      "Epoch 11/50\n",
      "\u001b[1m227/227\u001b[0m \u001b[32m━━━━━━━━━━━━━━━━━━━━\u001b[0m\u001b[37m\u001b[0m \u001b[1m622s\u001b[0m 3s/step - accuracy: 0.8891 - loss: 0.2848 - val_accuracy: 0.7640 - val_loss: 0.5951 - learning_rate: 0.0010\n",
      "Epoch 12/50\n",
      "\u001b[1m227/227\u001b[0m \u001b[32m━━━━━━━━━━━━━━━━━━━━\u001b[0m\u001b[37m\u001b[0m \u001b[1m620s\u001b[0m 3s/step - accuracy: 0.9115 - loss: 0.2441 - val_accuracy: 0.7714 - val_loss: 0.6341 - learning_rate: 0.0010\n",
      "Epoch 13/50\n",
      "\u001b[1m227/227\u001b[0m \u001b[32m━━━━━━━━━━━━━━━━━━━━\u001b[0m\u001b[37m\u001b[0m \u001b[1m625s\u001b[0m 3s/step - accuracy: 0.9298 - loss: 0.2018 - val_accuracy: 0.7677 - val_loss: 0.7611 - learning_rate: 0.0010\n",
      "Epoch 14/50\n",
      "\u001b[1m227/227\u001b[0m \u001b[32m━━━━━━━━━━━━━━━━━━━━\u001b[0m\u001b[37m\u001b[0m \u001b[1m604s\u001b[0m 3s/step - accuracy: 0.9392 - loss: 0.1729 - val_accuracy: 0.7901 - val_loss: 0.6065 - learning_rate: 0.0010\n",
      "Epoch 15/50\n",
      "\u001b[1m227/227\u001b[0m \u001b[32m━━━━━━━━━━━━━━━━━━━━\u001b[0m\u001b[37m\u001b[0m \u001b[1m0s\u001b[0m 3s/step - accuracy: 0.9595 - loss: 0.1154\n",
      "Epoch 15: ReduceLROnPlateau reducing learning rate to 0.0005000000237487257.\n",
      "\u001b[1m227/227\u001b[0m \u001b[32m━━━━━━━━━━━━━━━━━━━━\u001b[0m\u001b[37m\u001b[0m \u001b[1m602s\u001b[0m 3s/step - accuracy: 0.9595 - loss: 0.1154 - val_accuracy: 0.7851 - val_loss: 0.7519 - learning_rate: 0.0010\n",
      "Epoch 16/50\n",
      "\u001b[1m227/227\u001b[0m \u001b[32m━━━━━━━━━━━━━━━━━━━━\u001b[0m\u001b[37m\u001b[0m \u001b[1m617s\u001b[0m 3s/step - accuracy: 0.9738 - loss: 0.0783 - val_accuracy: 0.7938 - val_loss: 0.8442 - learning_rate: 5.0000e-04\n",
      "Epoch 17/50\n",
      "\u001b[1m227/227\u001b[0m \u001b[32m━━━━━━━━━━━━━━━━━━━━\u001b[0m\u001b[37m\u001b[0m \u001b[1m603s\u001b[0m 3s/step - accuracy: 0.9806 - loss: 0.0548 - val_accuracy: 0.7913 - val_loss: 0.8035 - learning_rate: 5.0000e-04\n",
      "Epoch 18/50\n",
      "\u001b[1m227/227\u001b[0m \u001b[32m━━━━━━━━━━━━━━━━━━━━\u001b[0m\u001b[37m\u001b[0m \u001b[1m609s\u001b[0m 3s/step - accuracy: 0.9834 - loss: 0.0449 - val_accuracy: 0.7776 - val_loss: 1.1200 - learning_rate: 5.0000e-04\n",
      "Epoch 19/50\n",
      "\u001b[1m227/227\u001b[0m \u001b[32m━━━━━━━━━━━━━━━━━━━━\u001b[0m\u001b[37m\u001b[0m \u001b[1m610s\u001b[0m 3s/step - accuracy: 0.9896 - loss: 0.0296 - val_accuracy: 0.7789 - val_loss: 0.9075 - learning_rate: 5.0000e-04\n",
      "Epoch 20/50\n",
      "\u001b[1m227/227\u001b[0m \u001b[32m━━━━━━━━━━━━━━━━━━━━\u001b[0m\u001b[37m\u001b[0m \u001b[1m0s\u001b[0m 3s/step - accuracy: 0.9810 - loss: 0.0592\n",
      "Epoch 20: ReduceLROnPlateau reducing learning rate to 0.0002500000118743628.\n",
      "\u001b[1m227/227\u001b[0m \u001b[32m━━━━━━━━━━━━━━━━━━━━\u001b[0m\u001b[37m\u001b[0m \u001b[1m627s\u001b[0m 3s/step - accuracy: 0.9810 - loss: 0.0592 - val_accuracy: 0.8012 - val_loss: 0.6778 - learning_rate: 5.0000e-04\n"
     ]
    }
   ],
   "source": [
    "history = model.fit(\n",
    "    X_train, y_train,\n",
    "    validation_split=0.1,\n",
    "    epochs=50,\n",
    "    batch_size=32,\n",
    "    class_weight=class_weights,\n",
    "    callbacks=callbacks\n",
    ")\n"
   ]
  },
  {
   "cell_type": "code",
   "execution_count": 24,
   "metadata": {
    "colab": {
     "base_uri": "https://localhost:8080/"
    },
    "id": "K8y9avgrL85V",
    "outputId": "1cff67bd-f421-4eb6-8f9e-bdbd85eb1ee2"
   },
   "outputs": [
    {
     "name": "stdout",
     "output_type": "stream",
     "text": [
      "\u001b[1m108/108\u001b[0m \u001b[32m━━━━━━━━━━━━━━━━━━━━\u001b[0m\u001b[37m\u001b[0m \u001b[1m77s\u001b[0m 688ms/step - accuracy: 0.8067 - loss: 0.4953\n",
      "Test Accuracy: 0.8063768148422241\n"
     ]
    }
   ],
   "source": [
    "test_loss, test_acc = model.evaluate(X_test, y_test, verbose=1)\n",
    "print(\"Test Accuracy:\", test_acc)\n"
   ]
  },
  {
   "cell_type": "code",
   "execution_count": 25,
   "metadata": {
    "colab": {
     "base_uri": "https://localhost:8080/"
    },
    "id": "xiBo3aq7sdvV",
    "outputId": "384e1728-7162-4898-c9bd-ddd794e025a6"
   },
   "outputs": [
    {
     "name": "stdout",
     "output_type": "stream",
     "text": [
      "\u001b[1m108/108\u001b[0m \u001b[32m━━━━━━━━━━━━━━━━━━━━\u001b[0m\u001b[37m\u001b[0m \u001b[1m68s\u001b[0m 593ms/step\n",
      "              precision    recall  f1-score   support\n",
      "\n",
      "           0       0.94      0.99      0.96       690\n",
      "           1       0.69      0.60      0.64       690\n",
      "           2       0.66      0.70      0.68       690\n",
      "           3       0.94      0.83      0.88       690\n",
      "           4       0.80      0.92      0.86       690\n",
      "\n",
      "    accuracy                           0.81      3450\n",
      "   macro avg       0.81      0.81      0.80      3450\n",
      "weighted avg       0.81      0.81      0.80      3450\n",
      "\n",
      "[[680  10   0   0   0]\n",
      " [ 36 413 225   1  15]\n",
      " [  6 173 481   0  30]\n",
      " [  0   0   3 574 113]\n",
      " [  0   3  16  37 634]]\n"
     ]
    }
   ],
   "source": [
    "from sklearn.metrics import classification_report, confusion_matrix\n",
    "\n",
    "y_pred = model.predict(X_test).argmax(axis=1)\n",
    "print(classification_report(y_test, y_pred))\n",
    "print(confusion_matrix(y_test, y_pred))\n"
   ]
  }
 ],
 "metadata": {
  "colab": {
   "provenance": []
  },
  "kernelspec": {
   "display_name": "Python 3 (ipykernel)",
   "language": "python",
   "name": "python3"
  },
  "language_info": {
   "codemirror_mode": {
    "name": "ipython",
    "version": 3
   },
   "file_extension": ".py",
   "mimetype": "text/x-python",
   "name": "python",
   "nbconvert_exporter": "python",
   "pygments_lexer": "ipython3",
   "version": "3.11.7"
  }
 },
 "nbformat": 4,
 "nbformat_minor": 4
}
